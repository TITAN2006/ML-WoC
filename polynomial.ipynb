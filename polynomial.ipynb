{
  "cells": [
    {
      "cell_type": "code",
      "execution_count": 1,
      "metadata": {
        "id": "Qu4lXk440Swo"
      },
      "outputs": [],
      "source": [
        "import numpy as np\n",
        "import pandas as pd\n",
        "import matplotlib.pyplot as plt\n",
        "import os"
      ]
    },
    {
      "cell_type": "code",
      "execution_count": 2,
      "metadata": {
        "colab": {
          "base_uri": "https://localhost:8080/"
        },
        "id": "jIY9O_EJ4080",
        "outputId": "55f7b3a1-7627-47ef-f8c1-28dc786f9094"
      },
      "outputs": [
        {
          "output_type": "stream",
          "name": "stdout",
          "text": [
            "Mounted at /content/drive\n"
          ]
        }
      ],
      "source": [
        "from google.colab import files\n",
        "from google.colab import drive\n",
        "drive.mount('/content/drive')\n",
        "df_train = pd.read_csv('/content/drive/MyDrive/polynomial_regression_train.csv')\n",
        "df_test = pd.read_csv('/content/drive/MyDrive/polynomial_regression_test.csv')"
      ]
    },
    {
      "cell_type": "code",
      "execution_count": 3,
      "metadata": {
        "colab": {
          "base_uri": "https://localhost:8080/"
        },
        "id": "UOAhNR2V6cqO",
        "outputId": "7ea015fd-8c2f-4208-aa3e-b4ba7c06be93"
      },
      "outputs": [
        {
          "output_type": "execute_result",
          "data": {
            "text/plain": [
              "(28559, 5)"
            ]
          },
          "metadata": {},
          "execution_count": 3
        }
      ],
      "source": [
        "df_train_x = df_train.iloc[:,1:-1]\n",
        "df_train_x.shape"
      ]
    },
    {
      "cell_type": "code",
      "execution_count": 4,
      "metadata": {
        "colab": {
          "base_uri": "https://localhost:8080/"
        },
        "id": "qPYsfItT7vQ2",
        "outputId": "9222fb02-9769-4772-bfe7-5631a7478fc4"
      },
      "outputs": [
        {
          "output_type": "execute_result",
          "data": {
            "text/plain": [
              "(6449, 5)"
            ]
          },
          "metadata": {},
          "execution_count": 4
        }
      ],
      "source": [
        "df_test_x = df_test.iloc[:,1:]\n",
        "df_test_x.shape"
      ]
    },
    {
      "cell_type": "code",
      "execution_count": 5,
      "metadata": {
        "colab": {
          "base_uri": "https://localhost:8080/"
        },
        "id": "yXhgjP9O8Xdi",
        "outputId": "0bcdf625-04e7-48dc-810a-df173cc09d1e"
      },
      "outputs": [
        {
          "output_type": "stream",
          "name": "stdout",
          "text": [
            "(28559, 1)\n"
          ]
        }
      ],
      "source": [
        "y = df_train.iloc[:,-1]\n",
        "y = y.values.reshape(y.shape[0],1)\n",
        "print(y.shape)"
      ]
    },
    {
      "cell_type": "code",
      "execution_count": 6,
      "metadata": {
        "id": "e8sJDWrv-w7C"
      },
      "outputs": [],
      "source": [
        "x = (df_train_x - df_train_x.mean())/df_train_x.std()\n"
      ]
    },
    {
      "cell_type": "code",
      "execution_count": 7,
      "metadata": {
        "id": "Hb-8ZdAB9smL"
      },
      "outputs": [],
      "source": [
        "m = x.shape[0]\n",
        "n = x.shape[1]\n",
        "i = 90000\n",
        "a = 0.001"
      ]
    },
    {
      "cell_type": "code",
      "execution_count": 8,
      "metadata": {
        "id": "KKK5uzLWWDYY"
      },
      "outputs": [],
      "source": [
        "degree = 5\n",
        "def poly(x, degree): #terms like x1^3*x2^4*x3 is not considered for simplicity although they would make the model more accurate\n",
        "    x_poly = x.copy()\n",
        "    for d in range(2, degree + 1):\n",
        "        x_poly = np.hstack((x_poly, np.power(x, d)))\n",
        "    interaction_terms = []\n",
        "    for k in range(n):\n",
        "        for l in range(k + 1, n):\n",
        "            for d1 in range(1, degree + 1):\n",
        "                for d2 in range(1, degree + 1):\n",
        "                    if d1 + d2 <= degree:\n",
        "                        interaction_terms.append((np.power(x[:, k], d1) * np.power(x[:, l], d2)).reshape(-1, 1))\n",
        "\n",
        "    x_interaction = np.hstack(interaction_terms)\n",
        "    return np.hstack((np.ones((m, 1)), x_poly, x_interaction)) #this only considers interaction between 2 terms of any degree"
      ]
    },
    {
      "cell_type": "code",
      "execution_count": 9,
      "metadata": {
        "colab": {
          "base_uri": "https://localhost:8080/"
        },
        "id": "oJUxzzNvZFGU",
        "outputId": "b6e3d984-e212-4ee0-f99a-238fd3fb8353"
      },
      "outputs": [
        {
          "output_type": "execute_result",
          "data": {
            "text/plain": [
              "(28559, 126)"
            ]
          },
          "metadata": {},
          "execution_count": 9
        }
      ],
      "source": [
        "x_poly = poly(x.values, degree)\n",
        "x_poly.shape"
      ]
    },
    {
      "cell_type": "code",
      "execution_count": 10,
      "metadata": {
        "colab": {
          "base_uri": "https://localhost:8080/"
        },
        "id": "legQgQ0cZMyC",
        "outputId": "9b21ffa7-ad0f-48d1-e7e3-28d28d652b40"
      },
      "outputs": [
        {
          "output_type": "execute_result",
          "data": {
            "text/plain": [
              "(126, 1)"
            ]
          },
          "metadata": {},
          "execution_count": 10
        }
      ],
      "source": [
        "w = np.zeros((x_poly.shape[1],1))\n",
        "w.shape"
      ]
    },
    {
      "cell_type": "code",
      "execution_count": 11,
      "metadata": {
        "id": "3DFsCjkhAb9d"
      },
      "outputs": [],
      "source": [
        "def grad(x,y,w,a,i):\n",
        "  j_hist = []\n",
        "  for i in range(i):\n",
        "      y_prediction = np.dot(x_poly,w)\n",
        "      dj_dw = -(2/m)*np.dot(x_poly.T,(y - y_prediction))\n",
        "      w = w - a*dj_dw\n",
        "      j = np.mean((y - y_prediction)**2)\n",
        "      j_hist.append(j)\n",
        "  return w, j_hist, y_prediction"
      ]
    },
    {
      "cell_type": "code",
      "execution_count": 12,
      "metadata": {
        "id": "Fyspk3kUApv1"
      },
      "outputs": [],
      "source": [
        " w, j_hist, y_prediction = grad(x,y,w,a,i)"
      ]
    },
    {
      "cell_type": "code",
      "execution_count": 13,
      "metadata": {
        "colab": {
          "base_uri": "https://localhost:8080/",
          "height": 564
        },
        "id": "of3bxGBFBLln",
        "outputId": "778803bd-4fc3-47ce-fff1-4526d65a820c"
      },
      "outputs": [
        {
          "output_type": "display_data",
          "data": {
            "text/plain": [
              "<Figure size 800x600 with 1 Axes>"
            ],
            "image/png": "[encoded data removed]"
          },
          "metadata": {}
        }
      ],
      "source": [
        "plt.figure(figsize=(8, 6))\n",
        "plt.plot(range(i), j_hist, label='Cost (MSE)', color='violet')\n",
        "plt.xlabel('Number of Iterations')\n",
        "plt.ylabel('Cost (MSE)')\n",
        "plt.title('Gradient Descent Convergence')\n",
        "plt.show()\n"
      ]
    },
    {
      "cell_type": "code",
      "execution_count": 14,
      "metadata": {
        "colab": {
          "base_uri": "https://localhost:8080/"
        },
        "id": "vf93yy4tBQQz",
        "outputId": "8700f19b-487e-4093-c67d-77f123782297"
      },
      "outputs": [
        {
          "output_type": "execute_result",
          "data": {
            "text/plain": [
              "(6449, 5)"
            ]
          },
          "metadata": {},
          "execution_count": 14
        }
      ],
      "source": [
        "x_test = (df_test_x - df_train_x.mean())/df_train_x.std()\n",
        "x_test.shape\n"
      ]
    },
    {
      "cell_type": "code",
      "source": [
        "m_test = x_test.shape[0]\n"
      ],
      "metadata": {
        "id": "3G1MSiesJsqD"
      },
      "execution_count": 15,
      "outputs": []
    },
    {
      "cell_type": "code",
      "execution_count": 16,
      "metadata": {
        "id": "shrXPcg0ERJR"
      },
      "outputs": [],
      "source": [
        "degree = 5\n",
        "def poly(x, degree):\n",
        "    x_poly_test = x_test.copy()\n",
        "    for d in range(2, degree + 1):\n",
        "        x_poly_test = np.hstack((x_poly_test, np.power(x, d)))\n",
        "    interaction_terms_test = []\n",
        "    for k in range(n):\n",
        "        for l in range(k + 1, n):\n",
        "            for d1 in range(1, degree + 1):\n",
        "                for d2 in range(1, degree + 1):\n",
        "                    if d1 + d2 <= degree:\n",
        "                        interaction_terms_test.append((np.power(x[:, k], d1) * np.power(x[:, l], d2)).reshape(-1, 1)) # this will only yeild interactions like x1x2 or x2x3\n",
        "    x_interaction_test = np.hstack(interaction_terms_test)\n",
        "    return np.hstack((np.ones((m_test, 1)), x_poly_test, x_interaction_test))"
      ]
    },
    {
      "cell_type": "code",
      "source": [
        "x_poly_test = poly(x_test.values ,degree)\n",
        "x_poly_test.shape"
      ],
      "metadata": {
        "colab": {
          "base_uri": "https://localhost:8080/"
        },
        "id": "6_oHjy61INGu",
        "outputId": "95237fc7-2724-4675-f5b6-3663053362bb"
      },
      "execution_count": 17,
      "outputs": [
        {
          "output_type": "execute_result",
          "data": {
            "text/plain": [
              "(6449, 126)"
            ]
          },
          "metadata": {},
          "execution_count": 17
        }
      ]
    },
    {
      "cell_type": "code",
      "source": [
        "y_prediction_test = np.dot(x_poly_test,w)\n",
        "y_prediction_test.shape"
      ],
      "metadata": {
        "colab": {
          "base_uri": "https://localhost:8080/"
        },
        "id": "YS3KEcoBK9fZ",
        "outputId": "aea06841-5fa0-458a-931d-464e871fd572"
      },
      "execution_count": 18,
      "outputs": [
        {
          "output_type": "execute_result",
          "data": {
            "text/plain": [
              "(6449, 1)"
            ]
          },
          "metadata": {},
          "execution_count": 18
        }
      ]
    },
    {
      "cell_type": "code",
      "source": [
        "Target_values = pd.DataFrame(y_prediction_test, columns=[\"Predicted Target Values\"])\n",
        "Target_values.to_csv('polynomial_regression_predictions.csv', index=False)\n",
        "print(os.getcwd())\n",
        "files.download('/content/polynomial_regression_predictions.csv')\n"
      ],
      "metadata": {
        "colab": {
          "base_uri": "https://localhost:8080/",
          "height": 34
        },
        "id": "RsPee8sMPIlE",
        "outputId": "b766f0a7-67bf-4658-e3ef-369264b57eb8"
      },
      "execution_count": 21,
      "outputs": [
        {
          "output_type": "stream",
          "name": "stdout",
          "text": [
            "/content\n"
          ]
        },
        {
          "output_type": "display_data",
          "data": {
            "text/plain": [
              "<IPython.core.display.Javascript object>"
            ],
            "application/javascript": [
              "\n",
              "    async function download(id, filename, size) {\n",
              "      if (!google.colab.kernel.accessAllowed) {\n",
              "        return;\n",
              "      }\n",
              "      const div = document.createElement('div');\n",
              "      const label = document.createElement('label');\n",
              "      label.textContent = `Downloading \"${filename}\": `;\n",
              "      div.appendChild(label);\n",
              "      const progress = document.createElement('progress');\n",
              "      progress.max = size;\n",
              "      div.appendChild(progress);\n",
              "      document.body.appendChild(div);\n",
              "\n",
              "      const buffers = [];\n",
              "      let downloaded = 0;\n",
              "\n",
              "      const channel = await google.colab.kernel.comms.open(id);\n",
              "      // Send a message to notify the kernel that we're ready.\n",
              "      channel.send({})\n",
              "\n",
              "      for await (const message of channel.messages) {\n",
              "        // Send a message to notify the kernel that we're ready.\n",
              "        channel.send({})\n",
              "        if (message.buffers) {\n",
              "          for (const buffer of message.buffers) {\n",
              "            buffers.push(buffer);\n",
              "            downloaded += buffer.byteLength;\n",
              "            progress.value = downloaded;\n",
              "          }\n",
              "        }\n",
              "      }\n",
              "      const blob = new Blob(buffers, {type: 'application/binary'});\n",
              "      const a = document.createElement('a');\n",
              "      a.href = window.URL.createObjectURL(blob);\n",
              "      a.download = filename;\n",
              "      div.appendChild(a);\n",
              "      a.click();\n",
              "      div.remove();\n",
              "    }\n",
              "  "
            ]
          },
          "metadata": {}
        },
        {
          "output_type": "display_data",
          "data": {
            "text/plain": [
              "<IPython.core.display.Javascript object>"
            ],
            "application/javascript": [
              "download(\"download_e6d88267-fb14-4a6b-92c3-8d0ff5983ece\", \"polynomial_regression_predictions.csv\", 147745)"
            ]
          },
          "metadata": {}
        }
      ]
    },
    {
      "cell_type": "code",
      "source": [
        "def r2_score(y, y_prediction):\n",
        "    ss_total = np.sum((y - np.mean(y))**2)\n",
        "    ss_residual = np.sum((y - y_prediction)**2)\n",
        "    return 1 - (ss_residual / ss_total)\n",
        "\n",
        "r2 = r2_score(y, y_prediction)\n",
        "print(f\"R^2 Score: {r2:.6f}\")\n"
      ],
      "metadata": {
        "colab": {
          "base_uri": "https://localhost:8080/"
        },
        "id": "9MRVOZsQPV24",
        "outputId": "02bddf82-57a8-4140-a52a-192466737996"
      },
      "execution_count": 20,
      "outputs": [
        {
          "output_type": "stream",
          "name": "stdout",
          "text": [
            "R^2 Score: 0.732896\n"
          ]
        }
      ]
    },
    {
      "cell_type": "code",
      "source": [
        "\n"
      ],
      "metadata": {
        "id": "4MPI7NDNR7KS"
      },
      "execution_count": null,
      "outputs": []
    }
  ],
  "metadata": {
    "colab": {
      "provenance": []
    },
    "kernelspec": {
      "display_name": "Python 3",
      "name": "python3"
    },
    "language_info": {
      "name": "python"
    }
  },
  "nbformat": 4,
  "nbformat_minor": 0
}