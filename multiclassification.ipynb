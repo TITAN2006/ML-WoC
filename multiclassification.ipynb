{
  "cells": [
    {
      "cell_type": "code",
      "execution_count": 2,
      "metadata": {
        "id": "G5Gd5j2kWSNf"
      },
      "outputs": [],
      "source": [
        "import numpy as np\n",
        "import pandas as pd\n",
        "import matplotlib.pyplot as plt\n",
        "import os"
      ]
    },
    {
      "cell_type": "code",
      "execution_count": 3,
      "metadata": {
        "colab": {
          "base_uri": "https://localhost:8080/"
        },
        "id": "d1JCZuStv5nv",
        "outputId": "32c2c689-5fae-451b-fc9f-dbe1624dca91"
      },
      "outputs": [
        {
          "output_type": "stream",
          "name": "stdout",
          "text": [
            "Mounted at /content/drive\n"
          ]
        }
      ],
      "source": [
        "from google.colab import files\n",
        "from google.colab import drive\n",
        "drive.mount('/content/drive')\n",
        "data = pd.read_csv('/content/drive/MyDrive/multi_classification_train.csv')"
      ]
    },
    {
      "cell_type": "code",
      "execution_count": 4,
      "metadata": {
        "colab": {
          "base_uri": "https://localhost:8080/"
        },
        "id": "pLnuUPiiwS5t",
        "outputId": "38172171-2f81-40b4-d6ee-84b7e8cbcf6c"
      },
      "outputs": [
        {
          "output_type": "stream",
          "name": "stdout",
          "text": [
            "38400\n"
          ]
        },
        {
          "output_type": "execute_result",
          "data": {
            "text/plain": [
              "(38400, 22)"
            ]
          },
          "metadata": {},
          "execution_count": 4
        }
      ],
      "source": [
        "train_size = int(0.8 * len(data))\n",
        "train_data = data[:train_size]\n",
        "test_data = data[train_size:]\n",
        "print(train_size)\n",
        "train_data.shape"
      ]
    },
    {
      "cell_type": "code",
      "execution_count": 5,
      "metadata": {
        "colab": {
          "base_uri": "https://localhost:8080/"
        },
        "id": "bV0oHfIEww9-",
        "outputId": "e317f007-f3f7-41bc-d604-b06c44f425e1"
      },
      "outputs": [
        {
          "output_type": "stream",
          "name": "stdout",
          "text": [
            "(38400, 20)\n",
            "(38400,)\n",
            "(9600, 20)\n",
            "(9600,)\n"
          ]
        }
      ],
      "source": [
        "x_train = train_data.iloc[:, 1:-1]\n",
        "y_train = train_data.iloc[:, -1].values\n",
        "x_test = test_data.iloc[:, 1:-1]\n",
        "y_test = test_data.iloc[:, -1].values\n",
        "print(x_train.shape)\n",
        "print(y_train.shape)\n",
        "print(x_test.shape)\n",
        "print(y_test.shape)"
      ]
    },
    {
      "cell_type": "code",
      "execution_count": 6,
      "metadata": {
        "id": "7UyCA_loxWFD"
      },
      "outputs": [],
      "source": [
        "x_train_normalized = (x_train - x_train.mean()) / x_train.std()\n",
        "x_test_normalized = (x_test - x_train.mean()) / x_train.std()"
      ]
    },
    {
      "cell_type": "code",
      "execution_count": 7,
      "metadata": {
        "id": "ttsjXkENxt42"
      },
      "outputs": [],
      "source": [
        "train_x = np.hstack((np.ones((x_train_normalized.shape[0], 1)), x_train_normalized))\n",
        "test_x = np.hstack((np.ones((x_test_normalized.shape[0], 1)), x_test_normalized))"
      ]
    },
    {
      "cell_type": "code",
      "execution_count": 8,
      "metadata": {
        "colab": {
          "base_uri": "https://localhost:8080/"
        },
        "id": "lLg2Jicqx_77",
        "outputId": "8886d3ee-4cac-4990-b132-c60e6afbfff4"
      },
      "outputs": [
        {
          "output_type": "stream",
          "name": "stdout",
          "text": [
            "(38400, 5)\n",
            "(9600, 5)\n"
          ]
        }
      ],
      "source": [
        "num_classes = len(np.unique(y_train))\n",
        "y_train_encoded = np.zeros((y_train.size, num_classes))\n",
        "y_train_encoded[np.arange(y_train.size), y_train - 1] = 1\n",
        "y_test_encoded = np.zeros((y_test.size, num_classes))\n",
        "y_test_encoded[np.arange(y_test.size), y_test - 1] = 1\n",
        "print(y_train_encoded.shape)\n",
        "print(y_test_encoded.shape)"
      ]
    },
    {
      "cell_type": "code",
      "execution_count": 9,
      "metadata": {
        "colab": {
          "base_uri": "https://localhost:8080/"
        },
        "id": "Yo0lR2dzyQPf",
        "outputId": "bdb03e38-be84-48d4-ac5a-d3540391c08a"
      },
      "outputs": [
        {
          "output_type": "stream",
          "name": "stdout",
          "text": [
            "(21, 5)\n"
          ]
        }
      ],
      "source": [
        "iterations = 10000\n",
        "learning_rate = 0.1\n",
        "w = np.zeros((train_x.shape[1], num_classes))\n",
        "print(w.shape)"
      ]
    },
    {
      "cell_type": "code",
      "execution_count": 10,
      "metadata": {
        "id": "0T3DqmsyzbYy"
      },
      "outputs": [],
      "source": [
        "def softmax(z):\n",
        "    exp_z = np.exp(z - np.max(z, axis=1, keepdims=True))  # Stability improvement\n",
        "    return exp_z / np.sum(exp_z, axis=1, keepdims=True)"
      ]
    },
    {
      "cell_type": "code",
      "execution_count": 11,
      "metadata": {
        "id": "z3jbXLiuz_7F"
      },
      "outputs": [],
      "source": [
        "def cost(x, y, w):\n",
        "    z = np.dot(x, w)\n",
        "    y_pred = softmax(z)\n",
        "    return -np.mean(np.sum(y * np.log(y_pred + 1e-15), axis=1))"
      ]
    },
    {
      "cell_type": "code",
      "execution_count": 12,
      "metadata": {
        "id": "N1QfCK8T0Rqj"
      },
      "outputs": [],
      "source": [
        "def grad(x, y, w, learning_rate, iterations):\n",
        "    m = x.shape[0]\n",
        "    j_hist = []\n",
        "    for _ in range(iterations):\n",
        "        z = np.dot(x, w)\n",
        "        y_pred = softmax(z)\n",
        "        error = y_pred - y\n",
        "        dj_dw = (1 / m) * np.dot(x.T, error)\n",
        "        w = w - learning_rate * dj_dw\n",
        "        j_hist.append(cost(x, y, w))\n",
        "    return w, j_hist , y_pred"
      ]
    },
    {
      "cell_type": "code",
      "execution_count": 13,
      "metadata": {
        "id": "X42Z5-Z_0hLm"
      },
      "outputs": [],
      "source": [
        "w, j_hist, y_pred = grad(train_x, y_train_encoded, w, learning_rate, iterations)"
      ]
    },
    {
      "cell_type": "code",
      "execution_count": 14,
      "metadata": {
        "colab": {
          "base_uri": "https://localhost:8080/",
          "height": 564
        },
        "id": "-XNJwgrJ00HD",
        "outputId": "a3ffc02e-c533-4ee6-e95f-7f27da395520"
      },
      "outputs": [
        {
          "output_type": "display_data",
          "data": {
            "text/plain": [
              "<Figure size 800x600 with 1 Axes>"
            ],
            "image/png": "[encoded data removed]"
          },
          "metadata": {}
        }
      ],
      "source": [
        "plt.figure(figsize=(8, 6))\n",
        "plt.plot(range(iterations), j_hist, label='Cost (Cross-Entropy)', color='blue')\n",
        "plt.xlabel('Number of Iterations')\n",
        "plt.ylabel('Cost')\n",
        "plt.title('Gradient Descent Convergence')\n",
        "plt.legend()\n",
        "plt.show()"
      ]
    },
    {
      "cell_type": "code",
      "execution_count": 15,
      "metadata": {
        "colab": {
          "base_uri": "https://localhost:8080/"
        },
        "id": "uUYfzZIf1tqJ",
        "outputId": "88e6eaf0-04c4-49c8-e0d2-1d1794534f03"
      },
      "outputs": [
        {
          "output_type": "stream",
          "name": "stdout",
          "text": [
            "(9600,)\n"
          ]
        }
      ],
      "source": [
        "z_test = np.dot(test_x, w)\n",
        "y_pred_test = softmax(z_test)\n",
        "y_pred_labels = np.argmax(y_pred_test, axis=1)\n",
        "print(y_pred_labels.shape)"
      ]
    },
    {
      "cell_type": "code",
      "execution_count": 16,
      "metadata": {
        "id": "1H5cfmLM92AQ"
      },
      "outputs": [],
      "source": [
        "thresholds = np.arange(0.1, 0.9, 0.1)\n"
      ]
    },
    {
      "cell_type": "code",
      "execution_count": 17,
      "metadata": {
        "id": "5AlVswJ49wew"
      },
      "outputs": [],
      "source": [
        "def compute_metrics(y_true, y_pred, thresholds):\n",
        "    classes = np.unique(y_true)\n",
        "    max_f1_scores = []\n",
        "\n",
        "    for cls in classes:\n",
        "        f1_scores = []\n",
        "        for threshold in thresholds:\n",
        "            y_pred_binary = (y_pred[:, cls - 1] >= threshold).astype(int)\n",
        "            y_true_binary = (y_true == cls).astype(int)\n",
        "\n",
        "            tp = np.sum((y_pred_binary == 1) & (y_true_binary == 1))\n",
        "            fp = np.sum((y_pred_binary == 1) & (y_true_binary == 0))\n",
        "            fn = np.sum((y_pred_binary == 0) & (y_true_binary == 1))\n",
        "\n",
        "            precision = tp / (tp + fp) if (tp + fp) > 0 else 0\n",
        "            recall = tp / (tp + fn) if (tp + fn) > 0 else 0\n",
        "            f1 = (2 * precision * recall) / (precision + recall) if (precision + recall) > 0 else 0\n",
        "\n",
        "            f1_scores.append(f1)\n",
        "\n",
        "        max_f1_scores.append(max(f1_scores))\n",
        "\n",
        "    return max_f1_scores"
      ]
    },
    {
      "cell_type": "code",
      "execution_count": 18,
      "metadata": {
        "id": "9NOpHz5k-D7k"
      },
      "outputs": [],
      "source": [
        "max_f1_scores = compute_metrics(y_test, y_pred_test, thresholds)"
      ]
    },
    {
      "cell_type": "code",
      "execution_count": 19,
      "metadata": {
        "colab": {
          "base_uri": "https://localhost:8080/"
        },
        "id": "VqpmqzKX-eXQ",
        "outputId": "ad5b8566-b1ed-4519-f540-d3b424d97d00"
      },
      "outputs": [
        {
          "output_type": "stream",
          "name": "stdout",
          "text": [
            "Class 1: F1 Score = 0.6523\n",
            "Class 2: F1 Score = 0.8938\n",
            "Class 3: F1 Score = 0.8765\n",
            "Class 4: F1 Score = 0.8089\n",
            "Class 5: F1 Score = 0.7723\n"
          ]
        }
      ],
      "source": [
        "for cls, f1 in enumerate(max_f1_scores, start=1):\n",
        "    print(f\"Class {cls}: F1 Score = {f1:.4f}\")\n"
      ]
    },
    {
      "cell_type": "code",
      "execution_count": 20,
      "metadata": {
        "colab": {
          "base_uri": "https://localhost:8080/"
        },
        "id": "td-hskJ8_eV0",
        "outputId": "85859edc-a261-414f-9805-189aadea6c6b"
      },
      "outputs": [
        {
          "output_type": "stream",
          "name": "stdout",
          "text": [
            "Drive already mounted at /content/drive; to attempt to forcibly remount, call drive.mount(\"/content/drive\", force_remount=True).\n"
          ]
        },
        {
          "output_type": "execute_result",
          "data": {
            "text/plain": [
              "(12000, 21)"
            ]
          },
          "metadata": {},
          "execution_count": 20
        }
      ],
      "source": [
        "from google.colab import drive\n",
        "drive.mount('/content/drive')\n",
        "new_data = pd.read_csv('/content/drive/MyDrive/multi_classification_test.csv')\n",
        "new_data.shape"
      ]
    },
    {
      "cell_type": "code",
      "execution_count": 21,
      "metadata": {
        "colab": {
          "base_uri": "https://localhost:8080/"
        },
        "id": "SYgLsI7MDUFW",
        "outputId": "4b2a7854-f769-47de-ddf9-7b970b581184"
      },
      "outputs": [
        {
          "output_type": "stream",
          "name": "stdout",
          "text": [
            "(12000, 21)\n"
          ]
        }
      ],
      "source": [
        "x_new = new_data.iloc[:, 1:]\n",
        "x_new_normalized = (x_new - x_train.mean()) / x_train.std()\n",
        "new_x = np.hstack((np.ones((x_new_normalized.shape[0], 1)), x_new_normalized))\n",
        "print(new_x.shape)"
      ]
    },
    {
      "cell_type": "code",
      "execution_count": 22,
      "metadata": {
        "colab": {
          "base_uri": "https://localhost:8080/"
        },
        "id": "ZsJckKkkD5Wm",
        "outputId": "66974183-7b09-4024-9b53-395cc2a15fef"
      },
      "outputs": [
        {
          "output_type": "stream",
          "name": "stdout",
          "text": [
            "(12000,)\n"
          ]
        }
      ],
      "source": [
        "z_new = np.dot(new_x, w)\n",
        "y_pred_new = softmax(z_new)\n",
        "y_pred_labels_new = np.argmax(y_pred_new, axis=1)\n",
        "print(y_pred_labels_new.shape)"
      ]
    },
    {
      "cell_type": "code",
      "execution_count": 23,
      "metadata": {
        "colab": {
          "base_uri": "https://localhost:8080/"
        },
        "id": "rX9eexZSEV-8",
        "outputId": "a1cee6a5-383b-46e6-fecb-01b46ef41eff"
      },
      "outputs": [
        {
          "output_type": "stream",
          "name": "stdout",
          "text": [
            "Predicted Labels:\n",
            "[2 0 0 ... 2 4 0]\n"
          ]
        }
      ],
      "source": [
        "print(\"Predicted Labels:\")\n",
        "print(y_pred_labels_new)"
      ]
    },
    {
      "cell_type": "code",
      "execution_count": 24,
      "metadata": {
        "id": "5UxJTiWmEhhc",
        "colab": {
          "base_uri": "https://localhost:8080/",
          "height": 34
        },
        "outputId": "220e0096-c92d-4cce-ac07-30a5901e3b69"
      },
      "outputs": [
        {
          "output_type": "stream",
          "name": "stdout",
          "text": [
            "/content\n"
          ]
        },
        {
          "output_type": "display_data",
          "data": {
            "text/plain": [
              "<IPython.core.display.Javascript object>"
            ],
            "application/javascript": [
              "\n",
              "    async function download(id, filename, size) {\n",
              "      if (!google.colab.kernel.accessAllowed) {\n",
              "        return;\n",
              "      }\n",
              "      const div = document.createElement('div');\n",
              "      const label = document.createElement('label');\n",
              "      label.textContent = `Downloading \"${filename}\": `;\n",
              "      div.appendChild(label);\n",
              "      const progress = document.createElement('progress');\n",
              "      progress.max = size;\n",
              "      div.appendChild(progress);\n",
              "      document.body.appendChild(div);\n",
              "\n",
              "      const buffers = [];\n",
              "      let downloaded = 0;\n",
              "\n",
              "      const channel = await google.colab.kernel.comms.open(id);\n",
              "      // Send a message to notify the kernel that we're ready.\n",
              "      channel.send({})\n",
              "\n",
              "      for await (const message of channel.messages) {\n",
              "        // Send a message to notify the kernel that we're ready.\n",
              "        channel.send({})\n",
              "        if (message.buffers) {\n",
              "          for (const buffer of message.buffers) {\n",
              "            buffers.push(buffer);\n",
              "            downloaded += buffer.byteLength;\n",
              "            progress.value = downloaded;\n",
              "          }\n",
              "        }\n",
              "      }\n",
              "      const blob = new Blob(buffers, {type: 'application/binary'});\n",
              "      const a = document.createElement('a');\n",
              "      a.href = window.URL.createObjectURL(blob);\n",
              "      a.download = filename;\n",
              "      div.appendChild(a);\n",
              "      a.click();\n",
              "      div.remove();\n",
              "    }\n",
              "  "
            ]
          },
          "metadata": {}
        },
        {
          "output_type": "display_data",
          "data": {
            "text/plain": [
              "<IPython.core.display.Javascript object>"
            ],
            "application/javascript": [
              "download(\"download_22a259bc-7635-48fe-a72b-98351c2637f7\", \"multiclassifications_test_predictions_probabilities.csv\", 24024)"
            ]
          },
          "metadata": {}
        }
      ],
      "source": [
        "y_pred_new = pd.DataFrame(y_pred_labels_new, columns=['Predicted_Probabilities'])\n",
        "y_pred_new.to_csv('multiclassifications_test_predictions_probabilities.csv', index=False)\n",
        "print(os.getcwd())\n",
        "files.download('/content/multiclassifications_test_predictions_probabilities.csv')"
      ]
    },
    {
      "cell_type": "code",
      "source": [
        "y_pred_labels_new = pd.DataFrame(y_pred_labels_new, columns=['Predicted_Probabilities'])\n",
        "y_pred_labels_new.to_csv('multiclassifications_test_predictions_classes.csv', index=False)\n",
        "print(os.getcwd())\n",
        "files.download('/content/multiclassifications_test_predictions_classes.csv')\n"
      ],
      "metadata": {
        "colab": {
          "base_uri": "https://localhost:8080/",
          "height": 34
        },
        "id": "cHvmmUXnPSKZ",
        "outputId": "03247ebc-3b42-4977-fdb6-d45c7e0e8bc5"
      },
      "execution_count": 26,
      "outputs": [
        {
          "output_type": "stream",
          "name": "stdout",
          "text": [
            "/content\n"
          ]
        },
        {
          "output_type": "display_data",
          "data": {
            "text/plain": [
              "<IPython.core.display.Javascript object>"
            ],
            "application/javascript": [
              "\n",
              "    async function download(id, filename, size) {\n",
              "      if (!google.colab.kernel.accessAllowed) {\n",
              "        return;\n",
              "      }\n",
              "      const div = document.createElement('div');\n",
              "      const label = document.createElement('label');\n",
              "      label.textContent = `Downloading \"${filename}\": `;\n",
              "      div.appendChild(label);\n",
              "      const progress = document.createElement('progress');\n",
              "      progress.max = size;\n",
              "      div.appendChild(progress);\n",
              "      document.body.appendChild(div);\n",
              "\n",
              "      const buffers = [];\n",
              "      let downloaded = 0;\n",
              "\n",
              "      const channel = await google.colab.kernel.comms.open(id);\n",
              "      // Send a message to notify the kernel that we're ready.\n",
              "      channel.send({})\n",
              "\n",
              "      for await (const message of channel.messages) {\n",
              "        // Send a message to notify the kernel that we're ready.\n",
              "        channel.send({})\n",
              "        if (message.buffers) {\n",
              "          for (const buffer of message.buffers) {\n",
              "            buffers.push(buffer);\n",
              "            downloaded += buffer.byteLength;\n",
              "            progress.value = downloaded;\n",
              "          }\n",
              "        }\n",
              "      }\n",
              "      const blob = new Blob(buffers, {type: 'application/binary'});\n",
              "      const a = document.createElement('a');\n",
              "      a.href = window.URL.createObjectURL(blob);\n",
              "      a.download = filename;\n",
              "      div.appendChild(a);\n",
              "      a.click();\n",
              "      div.remove();\n",
              "    }\n",
              "  "
            ]
          },
          "metadata": {}
        },
        {
          "output_type": "display_data",
          "data": {
            "text/plain": [
              "<IPython.core.display.Javascript object>"
            ],
            "application/javascript": [
              "download(\"download_9d02d8f8-98a5-485c-8ef3-7e64f84f0aab\", \"multiclassifications_test_predictions_classes.csv\", 24024)"
            ]
          },
          "metadata": {}
        }
      ]
    },
    {
      "cell_type": "code",
      "source": [],
      "metadata": {
        "id": "tq38_0kfPYFa"
      },
      "execution_count": 1,
      "outputs": []
    }
  ],
  "metadata": {
    "colab": {
      "provenance": []
    },
    "kernelspec": {
      "display_name": "Python 3",
      "name": "python3"
    },
    "language_info": {
      "name": "python"
    }
  },
  "nbformat": 4,
  "nbformat_minor": 0
}