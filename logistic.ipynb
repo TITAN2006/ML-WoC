{
  "nbformat": 4,
  "nbformat_minor": 0,
  "metadata": {
    "colab": {
      "provenance": []
    },
    "kernelspec": {
      "name": "python3",
      "display_name": "Python 3"
    },
    "language_info": {
      "name": "python"
    }
  },
  "cells": [
    {
      "cell_type": "code",
      "source": [
        "import numpy as np\n",
        "import pandas as pd\n",
        "import matplotlib.pyplot as plt\n",
        "import os"
      ],
      "metadata": {
        "id": "shIv1F03ieYV"
      },
      "execution_count": 1,
      "outputs": []
    },
    {
      "cell_type": "code",
      "source": [
        "from google.colab import files\n",
        "from google.colab import drive\n",
        "drive.mount('/content/drive')\n",
        "df_train = pd.read_csv('/content/drive/MyDrive/binary_classification_train.csv')\n",
        "df_test = pd.read_csv('/content/drive/MyDrive/binary_classification_test.csv')"
      ],
      "metadata": {
        "colab": {
          "base_uri": "https://localhost:8080/"
        },
        "id": "OEfdi09uaJL-",
        "outputId": "0ac3ce80-fa08-4844-bc8c-9295ba108c6b"
      },
      "execution_count": 3,
      "outputs": [
        {
          "output_type": "stream",
          "name": "stdout",
          "text": [
            "Mounted at /content/drive\n"
          ]
        }
      ]
    },
    {
      "cell_type": "code",
      "source": [
        "train_size = int(0.8 * len(df_train))\n",
        "train_data = df_train[:train_size]\n",
        "test_data = df_train[train_size:]\n",
        "print(train_size)\n"
      ],
      "metadata": {
        "colab": {
          "base_uri": "https://localhost:8080/"
        },
        "id": "5yMGHSXo_RTu",
        "outputId": "8ca7bd51-86ef-4710-9dab-0782d172d5b2"
      },
      "execution_count": 4,
      "outputs": [
        {
          "output_type": "stream",
          "name": "stdout",
          "text": [
            "1431\n"
          ]
        }
      ]
    },
    {
      "cell_type": "code",
      "source": [
        "df_train_x = train_data.iloc[:, 1:-1]\n",
        "df_train_y = train_data.iloc[:, -1].values.reshape(-1, 1)\n",
        "print(df_train_x.shape)\n",
        "print(df_train_y.shape)"
      ],
      "metadata": {
        "colab": {
          "base_uri": "https://localhost:8080/"
        },
        "id": "daNuWshC_atW",
        "outputId": "9ea813b5-1529-449a-905f-fe16ab478c69"
      },
      "execution_count": 5,
      "outputs": [
        {
          "output_type": "stream",
          "name": "stdout",
          "text": [
            "(1431, 20)\n",
            "(1431, 1)\n"
          ]
        }
      ]
    },
    {
      "cell_type": "code",
      "source": [
        "df_test_x = test_data.iloc[:, 1:-1]\n",
        "df_test_y = test_data.iloc[:, -1].values.reshape(-1, 1)"
      ],
      "metadata": {
        "id": "IxwNhNn3_-_n"
      },
      "execution_count": 6,
      "outputs": []
    },
    {
      "cell_type": "code",
      "source": [
        "df_train_x_normalized = (df_train_x - df_train_x.mean()) / df_train_x.std()\n",
        "df_test_x_normalized = (df_test_x - df_train_x.mean()) / df_train_x.std()"
      ],
      "metadata": {
        "id": "YK_x0wRrAQ8c"
      },
      "execution_count": 7,
      "outputs": []
    },
    {
      "cell_type": "code",
      "source": [
        "x_train = np.hstack((np.ones((df_train_x_normalized.shape[0], 1)), df_train_x_normalized))\n",
        "x_test = np.hstack((np.ones((df_test_x_normalized.shape[0], 1)), df_test_x_normalized))\n",
        "y_train = df_train_y\n",
        "y_test = df_test_y"
      ],
      "metadata": {
        "id": "ouQNxjEHAc6-"
      },
      "execution_count": 8,
      "outputs": []
    },
    {
      "cell_type": "code",
      "source": [
        "iterations = 50000\n",
        "learning_rate = 0.01\n",
        "m_train = x_train.shape[0]\n",
        "w = np.zeros((x_train.shape[1], 1))\n"
      ],
      "metadata": {
        "id": "yYIXJFYPBBrK"
      },
      "execution_count": 9,
      "outputs": []
    },
    {
      "cell_type": "code",
      "source": [
        "def sigmoid(z):\n",
        "    return 1 / (1 + np.exp(-z))"
      ],
      "metadata": {
        "id": "Y0XdkRyGBH3B"
      },
      "execution_count": 10,
      "outputs": []
    },
    {
      "cell_type": "code",
      "source": [
        "def cost(x, y, w):\n",
        "    z = np.dot(x, w)\n",
        "    y_pred = sigmoid(z)\n",
        "    j = -np.mean(y * np.log(y_pred + 1e-15) + (1 - y) * np.log(1 - y_pred + 1e-15))\n",
        "    return j"
      ],
      "metadata": {
        "id": "jZHlCAIyBMu0"
      },
      "execution_count": 11,
      "outputs": []
    },
    {
      "cell_type": "code",
      "source": [
        "def grad(x, y , w, learning_rate, iterations):\n",
        "    j_hist = []\n",
        "    for _ in range(iterations):\n",
        "        z = np.dot(x, w)\n",
        "        y_pred = sigmoid(z)\n",
        "        error = y_pred - y\n",
        "        dj_dw = (1 / m_train) * np.dot(x.T, error)\n",
        "        w = w - learning_rate * dj_dw\n",
        "        j = cost(x, y, w)\n",
        "        j_hist.append(j)\n",
        "    return w, j_hist , y_pred"
      ],
      "metadata": {
        "id": "gRrpARp1BWiU"
      },
      "execution_count": 12,
      "outputs": []
    },
    {
      "cell_type": "code",
      "source": [
        "w, j_hist, y_pred = grad(x_train, y_train, w, learning_rate, iterations)"
      ],
      "metadata": {
        "id": "gFIJDII2Brc-"
      },
      "execution_count": 13,
      "outputs": []
    },
    {
      "cell_type": "code",
      "source": [
        "plt.figure(figsize=(8, 6))\n",
        "plt.plot(range(iterations), j_hist, label='Cost (Binary Cross-Entropy)', color='green')\n",
        "plt.xlabel('Number of Iterations')\n",
        "plt.ylabel('Cost (Binary Cross-Entropy)')\n",
        "plt.title('Gradient Descent Convergence')\n",
        "plt.legend()\n",
        "plt.show()"
      ],
      "metadata": {
        "colab": {
          "base_uri": "https://localhost:8080/",
          "height": 564
        },
        "id": "GbodFFzbMbgM",
        "outputId": "d7f4ad3a-645a-497e-e9f7-3482890154f3"
      },
      "execution_count": 14,
      "outputs": [
        {
          "output_type": "display_data",
          "data": {
            "text/plain": [
              "<Figure size 800x600 with 1 Axes>"
            ],
            "image/png": "[encoded data removed]"
          },
          "metadata": {}
        }
      ]
    },
    {
      "cell_type": "code",
      "source": [
        "z_test = np.dot(x_test, w)\n",
        "y_pred_test = sigmoid(z_test)\n"
      ],
      "metadata": {
        "id": "u6OvUCGKB3MO"
      },
      "execution_count": 15,
      "outputs": []
    },
    {
      "cell_type": "code",
      "source": [
        "def compute_metrics(y_pred, y_test, threshold):\n",
        "    y_pred_labels = (y_pred >= threshold).astype(int)\n",
        "    TP = np.sum((y_pred_labels == 1) & (y_test == 1))\n",
        "    FP = np.sum((y_pred_labels == 1) & (y_test == 0))\n",
        "    FN = np.sum((y_pred_labels == 0) & (y_test == 1))\n",
        "    precision = TP / (TP + FP) if (TP + FP) > 0 else 0\n",
        "    recall = TP / (TP + FN) if (TP + FN) > 0 else 0\n",
        "    f1 = (2 * precision * recall) / (precision + recall) if (precision + recall) > 0 else 0\n",
        "    return precision, recall, f1"
      ],
      "metadata": {
        "id": "FCeWjJ_nC3UC"
      },
      "execution_count": 16,
      "outputs": []
    },
    {
      "cell_type": "code",
      "source": [
        "thresholds = np.arange(0.1, 0.9, 0.1)\n",
        "f1_scores = []"
      ],
      "metadata": {
        "id": "WzSnZ1KTERlt"
      },
      "execution_count": 17,
      "outputs": []
    },
    {
      "cell_type": "code",
      "source": [
        "for threshold in thresholds:\n",
        "    precision, recall, f1 = compute_metrics(y_pred_test, y_test, threshold)\n",
        "    f1_scores.append(f1)"
      ],
      "metadata": {
        "id": "OAdJb1UrFJg8"
      },
      "execution_count": 18,
      "outputs": []
    },
    {
      "cell_type": "code",
      "source": [
        "optimal_threshold_index = np.argmax(f1_scores)\n",
        "optimal_threshold = thresholds[optimal_threshold_index]\n",
        "print(f\"Optimal Threshold: {optimal_threshold:.2f}\")\n",
        "print(f\"Highest F1 Score: {f1_scores[optimal_threshold_index]:.4f}\")"
      ],
      "metadata": {
        "colab": {
          "base_uri": "https://localhost:8080/"
        },
        "id": "rkGJ_bGPF6MH",
        "outputId": "182f65fe-fec4-453d-e5ca-cbe010dab19f"
      },
      "execution_count": 19,
      "outputs": [
        {
          "output_type": "stream",
          "name": "stdout",
          "text": [
            "Optimal Threshold: 0.40\n",
            "Highest F1 Score: 0.9038\n"
          ]
        }
      ]
    },
    {
      "cell_type": "code",
      "source": [
        "x_test_separate_1 = df_test.iloc[:, 1:]\n",
        "x_test_normalized = (x_test_separate_1 - df_train_x.mean()) / df_train_x.std()\n",
        "x_test_separate = np.hstack((np.ones((x_test_normalized.shape[0], 1)), x_test_normalized))"
      ],
      "metadata": {
        "id": "D1bQSWjjGLFv"
      },
      "execution_count": 20,
      "outputs": []
    },
    {
      "cell_type": "code",
      "source": [
        "z_separate = np.dot(x_test_separate, w)\n",
        "y_pred_separate = sigmoid(z_separate)"
      ],
      "metadata": {
        "id": "6F2pLbC-I_D1"
      },
      "execution_count": 21,
      "outputs": []
    },
    {
      "cell_type": "code",
      "source": [
        "threshold_separate = 0.4\n",
        "y_pred_separate_labels = (y_pred_separate >= threshold_separate).astype(int) #alternatively i could've written y_pred_separate_labels = np.where(y_pred > threshold, 1, 0)"
      ],
      "metadata": {
        "id": "E5nNsv-EJdW_"
      },
      "execution_count": 22,
      "outputs": []
    },
    {
      "cell_type": "code",
      "source": [
        "separate_results_df = pd.DataFrame({\n",
        "    'y_pred_probabilities': y_pred_separate.flatten(),\n",
        "    'y_pred_labels': y_pred_separate_labels.flatten()\n",
        "})"
      ],
      "metadata": {
        "id": "hhmsq__kJwi2"
      },
      "execution_count": 23,
      "outputs": []
    },
    {
      "cell_type": "code",
      "source": [
        "print(separate_results_df.head())\n"
      ],
      "metadata": {
        "colab": {
          "base_uri": "https://localhost:8080/"
        },
        "id": "0cslJvDLLf1u",
        "outputId": "1cd8ddfc-3d54-4e88-a7c0-7158413bf68e"
      },
      "execution_count": 24,
      "outputs": [
        {
          "output_type": "stream",
          "name": "stdout",
          "text": [
            "   y_pred_probabilities  y_pred_labels\n",
            "0              0.061888              0\n",
            "1              0.316608              0\n",
            "2              0.016643              0\n",
            "3              0.142117              0\n",
            "4              0.071856              0\n"
          ]
        }
      ]
    },
    {
      "cell_type": "code",
      "source": [
        "y_pred_separate = pd.DataFrame(y_pred_separate, columns=['Predicted_Probabilities'])\n",
        "y_pred_separate.to_csv('Binary_Prediction_probabilities.csv', index=False)\n",
        "print(os.getcwd())\n",
        "files.download('/content/Binary_Prediction_probabilities.csv')"
      ],
      "metadata": {
        "id": "58pIBMbhMuwi",
        "colab": {
          "base_uri": "https://localhost:8080/",
          "height": 34
        },
        "outputId": "7fd99b7c-0123-40e3-a71b-f3fe7c12f1fe"
      },
      "execution_count": 27,
      "outputs": [
        {
          "output_type": "stream",
          "name": "stdout",
          "text": [
            "/content\n"
          ]
        },
        {
          "output_type": "display_data",
          "data": {
            "text/plain": [
              "<IPython.core.display.Javascript object>"
            ],
            "application/javascript": [
              "\n",
              "    async function download(id, filename, size) {\n",
              "      if (!google.colab.kernel.accessAllowed) {\n",
              "        return;\n",
              "      }\n",
              "      const div = document.createElement('div');\n",
              "      const label = document.createElement('label');\n",
              "      label.textContent = `Downloading \"${filename}\": `;\n",
              "      div.appendChild(label);\n",
              "      const progress = document.createElement('progress');\n",
              "      progress.max = size;\n",
              "      div.appendChild(progress);\n",
              "      document.body.appendChild(div);\n",
              "\n",
              "      const buffers = [];\n",
              "      let downloaded = 0;\n",
              "\n",
              "      const channel = await google.colab.kernel.comms.open(id);\n",
              "      // Send a message to notify the kernel that we're ready.\n",
              "      channel.send({})\n",
              "\n",
              "      for await (const message of channel.messages) {\n",
              "        // Send a message to notify the kernel that we're ready.\n",
              "        channel.send({})\n",
              "        if (message.buffers) {\n",
              "          for (const buffer of message.buffers) {\n",
              "            buffers.push(buffer);\n",
              "            downloaded += buffer.byteLength;\n",
              "            progress.value = downloaded;\n",
              "          }\n",
              "        }\n",
              "      }\n",
              "      const blob = new Blob(buffers, {type: 'application/binary'});\n",
              "      const a = document.createElement('a');\n",
              "      a.href = window.URL.createObjectURL(blob);\n",
              "      a.download = filename;\n",
              "      div.appendChild(a);\n",
              "      a.click();\n",
              "      div.remove();\n",
              "    }\n",
              "  "
            ]
          },
          "metadata": {}
        },
        {
          "output_type": "display_data",
          "data": {
            "text/plain": [
              "<IPython.core.display.Javascript object>"
            ],
            "application/javascript": [
              "download(\"download_e0ab2fd5-4cba-4188-9ccc-df23f555e997\", \"Binary_Prediction_probabilities.csv\", 48199)"
            ]
          },
          "metadata": {}
        }
      ]
    },
    {
      "cell_type": "code",
      "source": [
        "y_pred_separate_labels = pd.DataFrame(y_pred_separate_labels, columns=['Predicted_Probabilities'])\n",
        "y_pred_separate_labels.to_csv('Binary_Prediction_labels.csv', index=False)\n",
        "print(os.getcwd())\n",
        "files.download('/content/Binary_Prediction_labels.csv')"
      ],
      "metadata": {
        "id": "spGZRUZ-YUVs",
        "colab": {
          "base_uri": "https://localhost:8080/",
          "height": 34
        },
        "outputId": "4205e303-b45c-4186-a472-da2113ec5be2"
      },
      "execution_count": 26,
      "outputs": [
        {
          "output_type": "stream",
          "name": "stdout",
          "text": [
            "/content\n"
          ]
        },
        {
          "output_type": "display_data",
          "data": {
            "text/plain": [
              "<IPython.core.display.Javascript object>"
            ],
            "application/javascript": [
              "\n",
              "    async function download(id, filename, size) {\n",
              "      if (!google.colab.kernel.accessAllowed) {\n",
              "        return;\n",
              "      }\n",
              "      const div = document.createElement('div');\n",
              "      const label = document.createElement('label');\n",
              "      label.textContent = `Downloading \"${filename}\": `;\n",
              "      div.appendChild(label);\n",
              "      const progress = document.createElement('progress');\n",
              "      progress.max = size;\n",
              "      div.appendChild(progress);\n",
              "      document.body.appendChild(div);\n",
              "\n",
              "      const buffers = [];\n",
              "      let downloaded = 0;\n",
              "\n",
              "      const channel = await google.colab.kernel.comms.open(id);\n",
              "      // Send a message to notify the kernel that we're ready.\n",
              "      channel.send({})\n",
              "\n",
              "      for await (const message of channel.messages) {\n",
              "        // Send a message to notify the kernel that we're ready.\n",
              "        channel.send({})\n",
              "        if (message.buffers) {\n",
              "          for (const buffer of message.buffers) {\n",
              "            buffers.push(buffer);\n",
              "            downloaded += buffer.byteLength;\n",
              "            progress.value = downloaded;\n",
              "          }\n",
              "        }\n",
              "      }\n",
              "      const blob = new Blob(buffers, {type: 'application/binary'});\n",
              "      const a = document.createElement('a');\n",
              "      a.href = window.URL.createObjectURL(blob);\n",
              "      a.download = filename;\n",
              "      div.appendChild(a);\n",
              "      a.click();\n",
              "      div.remove();\n",
              "    }\n",
              "  "
            ]
          },
          "metadata": {}
        },
        {
          "output_type": "display_data",
          "data": {
            "text/plain": [
              "<IPython.core.display.Javascript object>"
            ],
            "application/javascript": [
              "download(\"download_5f1c9bf6-7ba8-4d34-a816-f170e79920d7\", \"Binary_Prediction_labels.csv\", 4882)"
            ]
          },
          "metadata": {}
        }
      ]
    },
    {
      "cell_type": "code",
      "source": [],
      "metadata": {
        "id": "EvVKwyAiZqgY"
      },
      "execution_count": null,
      "outputs": []
    }
  ]
}